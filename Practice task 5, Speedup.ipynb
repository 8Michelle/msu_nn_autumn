{
 "cells": [
  {
   "cell_type": "markdown",
   "metadata": {
    "id": "bn27NI7zaf9Z"
   },
   "source": [
    "## Семинар 5: \"Улучшение сходимости нейросетей\""
   ]
  },
  {
   "cell_type": "markdown",
   "metadata": {
    "id": "kY9vse7waf9b"
   },
   "source": [
    "ФИО: Коновалов Михаил Анатольевич"
   ]
  },
  {
   "cell_type": "code",
   "execution_count": 92,
   "metadata": {
    "executionInfo": {
     "elapsed": 1357,
     "status": "ok",
     "timestamp": 1602204244049,
     "user": {
      "displayName": "Данила Байгушев",
      "photoUrl": "",
      "userId": "06862651594233453127"
     },
     "user_tz": -180
    },
    "id": "JdEAkdunaf9d"
   },
   "outputs": [],
   "source": [
    "import numpy as np\n",
    "from sklearn.model_selection import train_test_split\n",
    "import matplotlib.pyplot as plt\n",
    "import torch\n",
    "from torch import nn\n",
    "import torch.nn.functional as F\n",
    "from torch.autograd import Variable\n",
    "from torch.utils.data import DataLoader\n",
    "from torchvision.datasets import MNIST\n",
    "from torchvision import transforms\n",
    "%matplotlib inline\n",
    "from scipy import stats"
   ]
  },
  {
   "cell_type": "markdown",
   "metadata": {
    "id": "iIgr4r2Haf9l"
   },
   "source": [
    "На этом семинаре мы попробуем улучшить результаты, полученные на предыдущем занятии\n",
    "Для этого нам понадобятся следующие вещи:\n",
    "* Dropout\n",
    "* Batch Normalization\n",
    "* Инициализация весов"
   ]
  },
  {
   "cell_type": "markdown",
   "metadata": {
    "id": "CZHtxmbUaf9m"
   },
   "source": [
    "### Часть 1: Инициализация весов"
   ]
  },
  {
   "cell_type": "markdown",
   "metadata": {
    "id": "W8dhNr-faf9n"
   },
   "source": [
    "На лекции доказывалось, что при инициализации He и Glorot дисперсия активаций градиентов в каждом слое будут примерно равны. Давайте проверим это. "
   ]
  },
  {
   "cell_type": "code",
   "execution_count": 3,
   "metadata": {
    "executionInfo": {
     "elapsed": 638,
     "status": "ok",
     "timestamp": 1602204245453,
     "user": {
      "displayName": "Данила Байгушев",
      "photoUrl": "",
      "userId": "06862651594233453127"
     },
     "user_tz": -180
    },
    "id": "216zZRJAaf9o"
   },
   "outputs": [],
   "source": [
    "# Dataloader\n",
    "to_numpy = lambda x: x.numpy()\n",
    "transform = transforms.Compose([\n",
    "                       transforms.ToTensor(),\n",
    "                       transforms.Normalize((0.1307,), (0.3081,))\n",
    "                    ])\n",
    "train_dataset = MNIST('.', train=True, download=True, transform=transform)\n",
    "test_dataset = MNIST('.', train=False, transform=transform)\n",
    "\n",
    "train_loader = DataLoader(train_dataset, batch_size=128, shuffle=True)\n",
    "test_loader = DataLoader(test_dataset, batch_size=128, shuffle=True)"
   ]
  },
  {
   "cell_type": "code",
   "execution_count": 4,
   "metadata": {
    "executionInfo": {
     "elapsed": 1044,
     "status": "ok",
     "timestamp": 1602204248730,
     "user": {
      "displayName": "Данила Байгушев",
      "photoUrl": "",
      "userId": "06862651594233453127"
     },
     "user_tz": -180
    },
    "id": "EqpqV_pVaf9t"
   },
   "outputs": [],
   "source": [
    "images_train, labels_train = next(iter(train_loader))"
   ]
  },
  {
   "cell_type": "code",
   "execution_count": 5,
   "metadata": {
    "executionInfo": {
     "elapsed": 8672,
     "status": "ok",
     "timestamp": 1602204258260,
     "user": {
      "displayName": "Данила Байгушев",
      "photoUrl": "",
      "userId": "06862651594233453127"
     },
     "user_tz": -180
    },
    "id": "agAN6Tyfaf9x"
   },
   "outputs": [],
   "source": [
    "## Usage example:\n",
    "for X, y in train_loader:\n",
    "    X = X.view(X.size(0), -1)\n",
    "    X = X.numpy() ### Converts torch.Tensor to numpy array\n",
    "    y = y.numpy()\n",
    "    pass"
   ]
  },
  {
   "cell_type": "code",
   "execution_count": 6,
   "metadata": {
    "colab": {
     "base_uri": "https://localhost:8080/",
     "height": 420
    },
    "executionInfo": {
     "elapsed": 8767,
     "status": "ok",
     "timestamp": 1602204259023,
     "user": {
      "displayName": "Данила Байгушев",
      "photoUrl": "",
      "userId": "06862651594233453127"
     },
     "user_tz": -180
    },
    "id": "71k9eU4Caf91",
    "outputId": "d056f30d-d7cf-4128-8736-5a83d5511445"
   },
   "outputs": [
    {
     "data": {
      "image/png": "[encoded data removed]",
      "text/plain": [
       "<Figure size 432x504 with 25 Axes>"
      ]
     },
     "metadata": {
      "needs_background": "light"
     },
     "output_type": "display_data"
    }
   ],
   "source": [
    "plt.figure(figsize=(6, 7))\n",
    "for i in range(25):\n",
    "    plt.subplot(5, 5, i+1)\n",
    "    plt.imshow(X[i].reshape(28, 28), cmap=plt.cm.Greys_r)\n",
    "    plt.title(y[i])\n",
    "    plt.axis('off')"
   ]
  },
  {
   "cell_type": "markdown",
   "metadata": {
    "id": "CjxGvxs8af98"
   },
   "source": [
    "<i> 1.1 </i> Инициализируйте полносвязную сеть нормальным шумом N(0, 0.1) с архитектурой 784 -> 500 x (10 раз) -> 10. В качестве активации возьмите tanh"
   ]
  },
  {
   "cell_type": "code",
   "execution_count": 55,
   "metadata": {
    "executionInfo": {
     "elapsed": 6511,
     "status": "ok",
     "timestamp": 1602204259025,
     "user": {
      "displayName": "Данила Байгушев",
      "photoUrl": "",
      "userId": "06862651594233453127"
     },
     "user_tz": -180
    },
    "id": "DgCP_qclaf99"
   },
   "outputs": [],
   "source": [
    "def init_layer(layer, mean=0, std=0.1):\n",
    "    # Тут надо быть аккуратным — можно случайно создать копию и менять значения у копии\n",
    "    weight = layer.state_dict()['weight']\n",
    "    bias = layer.state_dict()['bias']\n",
    "    bias.zero_()\n",
    "    weight.normal_(mean=0, std=std)\n",
    "\n",
    "def forward_hook(self, input_, output):\n",
    "    std = input_[0].std().item()\n",
    "    print('forward', std)\n",
    "\n",
    "def backward_hook(self, grad_input, grad_output):\n",
    "    std = grad_input[0].std().item()\n",
    "    print('backward', std)\n",
    "\n",
    "    \n",
    "# пример:\n",
    "layer = nn.Linear(28*28, 10)\n",
    "layer.register_forward_hook(forward_hook)\n",
    "layer.register_backward_hook(backward_hook)\n",
    "init_layer(layer, 0.0, 0.1) # сюда надо подставить другие параметры"
   ]
  },
  {
   "cell_type": "code",
   "execution_count": 70,
   "metadata": {},
   "outputs": [],
   "source": [
    "layers = []\n",
    "sizes = [28*28, 64, 32] + [16] * 20 + [10]\n",
    "\n",
    "for insize, outsize in zip(sizes, sizes[1:]):\n",
    "    layer = nn.Linear(insize, outsize)\n",
    "    layer.register_forward_hook(forward_hook)\n",
    "    layer.register_backward_hook(backward_hook)\n",
    "    init_layer(layer)\n",
    "    \n",
    "    layers.append(layer)\n",
    "    layers.append(nn.Tanh())\n",
    "    \n",
    "del layers[-1]"
   ]
  },
  {
   "cell_type": "markdown",
   "metadata": {
    "id": "SsjtA7N_af-G"
   },
   "source": [
    "<i>1.2 Пропустите батч изображений через нейронную сеть и вычислите дисперсию активаций. Затем вычислите градиент и получите дисперсию градиентов. Сравните эти значения между собой для разных слоев.</i>"
   ]
  },
  {
   "cell_type": "code",
   "execution_count": 71,
   "metadata": {},
   "outputs": [
    {
     "name": "stdout",
     "output_type": "stream",
     "text": [
      "forward 0.9674385190010071\n",
      "forward 0.8417056798934937\n",
      "forward 0.5111410617828369\n",
      "forward 0.2779307961463928\n",
      "forward 0.11676657199859619\n",
      "forward 0.04231956973671913\n",
      "forward 0.0187228936702013\n",
      "forward 0.0075302948243916035\n",
      "forward 0.0035938331857323647\n",
      "forward 0.0012621673522517085\n",
      "forward 0.00045944482553750277\n",
      "forward 0.0001702512672636658\n",
      "forward 5.564594903262332e-05\n",
      "forward 2.256389234389644e-05\n",
      "forward 1.1105184057669248e-05\n",
      "forward 5.15154442837229e-06\n",
      "forward 2.2648964659310877e-06\n",
      "forward 1.0639714673743583e-06\n",
      "forward 4.2962906832144654e-07\n",
      "forward 1.1803282973232854e-07\n",
      "forward 5.9529529750079746e-08\n",
      "forward 2.755907324569762e-08\n",
      "forward 1.3952245581094758e-08\n",
      "backward 0.032317861914634705\n",
      "backward 0.03396540880203247\n",
      "backward 0.012549261562526226\n",
      "backward 0.0040932949632406235\n",
      "backward 0.002457408932968974\n",
      "backward 0.0010011132108047605\n",
      "backward 0.00048445345601066947\n",
      "backward 0.00015346118016168475\n",
      "backward 6.431222573155537e-05\n",
      "backward 2.4777846192591824e-05\n",
      "backward 1.4762948921998031e-05\n",
      "backward 6.04042816121364e-06\n",
      "backward 2.6112375053344294e-06\n",
      "backward 9.717057309899246e-07\n",
      "backward 3.765027543067845e-07\n",
      "backward 1.0766384406224461e-07\n",
      "backward 4.4155203937634724e-08\n",
      "backward 2.3090489520427582e-08\n",
      "backward 7.376776967049636e-09\n",
      "backward 3.6829284066897117e-09\n",
      "backward 1.3350791583377486e-09\n",
      "backward 4.1031564257387743e-10\n",
      "backward 8.294319397972316e-11\n"
     ]
    }
   ],
   "source": [
    "network = nn.Sequential(*layers)\n",
    "\n",
    "batch_size = 100\n",
    "loss = nn.NLLLoss()\n",
    "optim = torch.optim.Adam(network.parameters(), lr=1e-3)\n",
    "\n",
    "X = images_train[:batch_size].reshape(batch_size, -1).data\n",
    "y = labels_train[:batch_size].data\n",
    "\n",
    "result = network(X)\n",
    "loss_value = loss(result, y)\n",
    "loss_value.backward()"
   ]
  },
  {
   "cell_type": "markdown",
   "metadata": {
    "id": "aUJG1Dbqaf-R"
   },
   "source": [
    "<i>1.3 Повторите эксперимент для инициализаций He и Xavier (формулы есть в лекции).</i>"
   ]
  },
  {
   "cell_type": "code",
   "execution_count": 75,
   "metadata": {},
   "outputs": [],
   "source": [
    "def xavier(insize, outsize):\n",
    "    return np.sqrt(2 / (insize + outsize))\n",
    "\n",
    "def he(insize, outsize):\n",
    "    return np.sqrt(2 / outsize)"
   ]
  },
  {
   "cell_type": "code",
   "execution_count": 76,
   "metadata": {
    "id": "FyD1lPKwaf-T"
   },
   "outputs": [
    {
     "name": "stdout",
     "output_type": "stream",
     "text": [
      "forward 0.9674385190010071\n",
      "forward 0.7007105350494385\n",
      "forward 0.5578444004058838\n",
      "forward 0.5025557279586792\n",
      "forward 0.42043447494506836\n",
      "forward 0.38831138610839844\n",
      "forward 0.3010959029197693\n",
      "forward 0.28954681754112244\n",
      "forward 0.24660395085811615\n",
      "forward 0.2405339926481247\n",
      "forward 0.22650232911109924\n",
      "forward 0.2406262904405594\n",
      "forward 0.18585042655467987\n",
      "forward 0.16224360466003418\n",
      "forward 0.16130557656288147\n",
      "forward 0.14511960744857788\n",
      "forward 0.1335664540529251\n",
      "forward 0.1258382350206375\n",
      "forward 0.14121177792549133\n",
      "forward 0.14455434679985046\n",
      "forward 0.13771386444568634\n",
      "forward 0.1437382996082306\n",
      "forward 0.1604374796152115\n",
      "backward 0.032317861914634705\n",
      "backward 0.11512044817209244\n",
      "backward 0.08565767854452133\n",
      "backward 0.08900627493858337\n",
      "backward 0.08983481675386429\n",
      "backward 0.08874518424272537\n",
      "backward 0.076560378074646\n",
      "backward 0.07384292036294937\n",
      "backward 0.09097039699554443\n",
      "backward 0.09102443605661392\n",
      "backward 0.1047649011015892\n",
      "backward 0.11479507386684418\n",
      "backward 0.09452290087938309\n",
      "backward 0.09416375309228897\n",
      "backward 0.07379857450723648\n",
      "backward 0.06302962452173233\n",
      "backward 0.055088356137275696\n",
      "backward 0.04895920306444168\n",
      "backward 0.0410982146859169\n",
      "backward 0.028635084629058838\n",
      "backward 0.022377990186214447\n",
      "backward 0.011843914166092873\n",
      "backward 0.005793153773993254\n"
     ]
    }
   ],
   "source": [
    "init_function = xavier\n",
    "\n",
    "layers = []\n",
    "sizes = [28*28, 64, 32] + [16] * 20 + [10]\n",
    "\n",
    "for insize, outsize in zip(sizes, sizes[1:]):\n",
    "    layer = nn.Linear(insize, outsize)\n",
    "    layer.register_forward_hook(forward_hook)\n",
    "    layer.register_backward_hook(backward_hook)\n",
    "    init_layer(layer, 0.0, std=init_function(insize, outsize))\n",
    "    \n",
    "    layers.append(layer)\n",
    "    layers.append(nn.Tanh())\n",
    "\n",
    "del layers[-1]\n",
    "\n",
    "\n",
    "network = nn.Sequential(*layers)\n",
    "\n",
    "batch_size = 100\n",
    "loss = nn.NLLLoss()\n",
    "optim = torch.optim.Adam(network.parameters(), lr=1e-3)\n",
    "\n",
    "X = images_train[:batch_size].reshape(batch_size, -1).data\n",
    "y = labels_train[:batch_size].data\n",
    "\n",
    "result = network(X)\n",
    "loss_value = loss(result, y)\n",
    "loss_value.backward()"
   ]
  },
  {
   "cell_type": "code",
   "execution_count": 79,
   "metadata": {},
   "outputs": [
    {
     "name": "stdout",
     "output_type": "stream",
     "text": [
      "forward 0.9674385190010071\n",
      "forward 0.9071714282035828\n",
      "forward 0.7629152536392212\n",
      "forward 0.7287699580192566\n",
      "forward 0.6417555212974548\n",
      "forward 0.5908160209655762\n",
      "forward 0.6116660237312317\n",
      "forward 0.5263339281082153\n",
      "forward 0.5291524529457092\n",
      "forward 0.5551007390022278\n",
      "forward 0.5786155462265015\n",
      "forward 0.5096825361251831\n",
      "forward 0.5254874229431152\n",
      "forward 0.6002951264381409\n",
      "forward 0.5075657963752747\n",
      "forward 0.5198096632957458\n",
      "forward 0.5247715711593628\n",
      "forward 0.5245132446289062\n",
      "forward 0.5218653678894043\n",
      "forward 0.5801065564155579\n",
      "forward 0.5867525935173035\n",
      "forward 0.6705632209777832\n",
      "forward 0.6693671941757202\n",
      "backward 0.032317861914634705\n",
      "backward 0.06841659545898438\n",
      "backward 0.07850893586874008\n",
      "backward 0.11268890649080276\n",
      "backward 0.08868025988340378\n",
      "backward 0.125416561961174\n",
      "backward 0.11424942314624786\n",
      "backward 0.11733126640319824\n",
      "backward 0.09860745072364807\n",
      "backward 0.10015497356653214\n",
      "backward 0.10970194637775421\n",
      "backward 0.09141432493925095\n",
      "backward 0.1581084132194519\n",
      "backward 0.19344958662986755\n",
      "backward 0.13677076995372772\n",
      "backward 0.11659584194421768\n",
      "backward 0.15555384755134583\n",
      "backward 0.13210535049438477\n",
      "backward 0.07965057343244553\n",
      "backward 0.06758366525173187\n",
      "backward 0.08294318616390228\n",
      "backward 0.08049645274877548\n",
      "backward 0.026763703674077988\n"
     ]
    }
   ],
   "source": [
    "init_function = he\n",
    "\n",
    "layers = []\n",
    "sizes = [28*28, 64, 32] + [16] * 20 + [10]\n",
    "\n",
    "for insize, outsize in zip(sizes, sizes[1:]):\n",
    "    layer = nn.Linear(insize, outsize)\n",
    "    layer.register_forward_hook(forward_hook)\n",
    "    layer.register_backward_hook(backward_hook)\n",
    "    init_layer(layer, std=init_function(insize, outsize))\n",
    "    \n",
    "    layers.append(layer)\n",
    "    layers.append(nn.Tanh())\n",
    "    \n",
    "del layers[-1]\n",
    "\n",
    "\n",
    "network = nn.Sequential(*layers)\n",
    "\n",
    "batch_size = 100\n",
    "loss = nn.NLLLoss()\n",
    "optim = torch.optim.Adam(network.parameters(), lr=1e-3)\n",
    "\n",
    "X = images_train[:batch_size].reshape(batch_size, -1).data\n",
    "y = labels_train[:batch_size].data\n",
    "\n",
    "result = network(X)\n",
    "loss_value = loss(result, y)\n",
    "loss_value.backward()"
   ]
  },
  {
   "cell_type": "markdown",
   "metadata": {},
   "source": [
    "Посмотрим, как ведет себя дисперсия в случае ReLU."
   ]
  },
  {
   "cell_type": "code",
   "execution_count": 80,
   "metadata": {},
   "outputs": [
    {
     "name": "stdout",
     "output_type": "stream",
     "text": [
      "forward 0.9674385190010071\n",
      "forward 2.7410099506378174\n",
      "forward 3.8437626361846924\n",
      "forward 4.3732500076293945\n",
      "forward 4.581939697265625\n",
      "forward 4.019128799438477\n",
      "forward 3.517737865447998\n",
      "forward 2.7494661808013916\n",
      "forward 2.8427371978759766\n",
      "forward 4.087477207183838\n",
      "forward 3.8653788566589355\n",
      "forward 2.8342723846435547\n",
      "forward 3.6300995349884033\n",
      "forward 4.472577095031738\n",
      "forward 4.682651042938232\n",
      "forward 3.073713779449463\n",
      "forward 3.0858192443847656\n",
      "forward 2.8360564708709717\n",
      "forward 2.19234561920166\n",
      "forward 2.4067420959472656\n",
      "forward 3.0688490867614746\n",
      "forward 2.9651331901550293\n",
      "forward 3.036822557449341\n",
      "backward 0.032317861914634705\n",
      "backward 0.06399337947368622\n",
      "backward 0.035681068897247314\n",
      "backward 0.025576898828148842\n",
      "backward 0.032743167132139206\n",
      "backward 0.03709203004837036\n",
      "backward 0.018056919798254967\n",
      "backward 0.020382653921842575\n",
      "backward 0.015734411776065826\n",
      "backward 0.032873183488845825\n",
      "backward 0.027593690901994705\n",
      "backward 0.03179285302758217\n",
      "backward 0.028863931074738503\n",
      "backward 0.028214599937200546\n",
      "backward 0.017687447369098663\n",
      "backward 0.031372085213661194\n",
      "backward 0.023781275376677513\n",
      "backward 0.03079000487923622\n",
      "backward 0.027346018701791763\n",
      "backward 0.017476553097367287\n",
      "backward 0.013714808970689774\n",
      "backward 0.012883390299975872\n",
      "backward 0.016406802460551262\n"
     ]
    }
   ],
   "source": [
    "init_function = he\n",
    "\n",
    "layers = []\n",
    "sizes = [28*28, 64, 32] + [16] * 20 + [10]\n",
    "\n",
    "for insize, outsize in zip(sizes, sizes[1:]):\n",
    "    layer = nn.Linear(insize, outsize)\n",
    "    layer.register_forward_hook(forward_hook)\n",
    "    layer.register_backward_hook(backward_hook)\n",
    "    init_layer(layer, std=init_function(insize, outsize))\n",
    "    \n",
    "    layers.append(layer)\n",
    "    layers.append(nn.ReLU())\n",
    "    \n",
    "del layers[-1]\n",
    "\n",
    "\n",
    "network = nn.Sequential(*layers)\n",
    "\n",
    "batch_size = 100\n",
    "loss = nn.NLLLoss()\n",
    "optim = torch.optim.Adam(network.parameters(), lr=1e-3)\n",
    "\n",
    "X = images_train[:batch_size].reshape(batch_size, -1).data\n",
    "y = labels_train[:batch_size].data\n",
    "\n",
    "result = network(X)\n",
    "loss_value = loss(result, y)\n",
    "loss_value.backward()"
   ]
  },
  {
   "cell_type": "markdown",
   "metadata": {
    "id": "7U2YSSw5af-Y"
   },
   "source": [
    "<i> 1.4 Сделайте выводы по первой части </i>"
   ]
  },
  {
   "cell_type": "markdown",
   "metadata": {
    "id": "NBQ7o-hjaf-a"
   },
   "source": [
    "При инициализации весов линейных слоев путем сэмплирования из нормального распределения с дисперсией 0.1 наблюдается сильное уменьшение дисперсии при проходе данных и градиента через сеть. Инициализация по методам Ксавьера и He дают более устойчивую дисперсию весов. Тем не менее, дисперсия немного уменьшается, так как эти методы используют довольно сильное допущение, что большая часть данных и градиентов проходит через линейную область функции активации. В случае ReLU инициализация He показывает очень хороший результат в силу линейности положительной области определения ReLU."
   ]
  },
  {
   "cell_type": "markdown",
   "metadata": {
    "id": "4kYx-hwLaf-b"
   },
   "source": [
    "### Часть 2: Dropout"
   ]
  },
  {
   "cell_type": "markdown",
   "metadata": {
    "id": "mDoy5_yEaf-c"
   },
   "source": [
    "Другим полезным слоем является Dropout. В нем с вероятностью 1-p зануляется выход каждого нейрона. Этот слой уже реализован в pyTorch, поэтому вновь реализовывать его не интересно. Давайте реализуем DropConnect — аналог Dropout. В нем с вероятностью 1-p зануляется каждый вес слоя."
   ]
  },
  {
   "cell_type": "code",
   "execution_count": 182,
   "metadata": {
    "executionInfo": {
     "elapsed": 903,
     "status": "ok",
     "timestamp": 1602204261440,
     "user": {
      "displayName": "Данила Байгушев",
      "photoUrl": "",
      "userId": "06862651594233453127"
     },
     "user_tz": -180
    },
    "id": "Ee2ljeNCaf-f"
   },
   "outputs": [],
   "source": [
    "# полезная функция: .bernoulli_(p)\n",
    "# не забывайте делать requires_grad=False у маски\n",
    "# помните, что в вычислениях должны участвовать Variable, а не тензоры\n",
    "\n",
    "class DropConnect(nn.Module):\n",
    "    def __init__(self, input_dim, output_dim, p=0.5):\n",
    "        super(DropConnect, self).__init__()\n",
    "        self.linear = nn.Linear(input_dim, output_dim)\n",
    "        self.p = p\n",
    "\n",
    "    def forward(self, x):\n",
    "        mask = torch.zeros_like(self.linear.weight) + self.p\n",
    "        if self.training:          \n",
    "            mask.bernoulli_()\n",
    "\n",
    "        mask = mask.data\n",
    "        output = F.linear(x, self.linear.weight * mask, self.linear.bias)\n",
    "        return output"
   ]
  },
  {
   "cell_type": "markdown",
   "metadata": {
    "id": "CCv4jdyoaf-k"
   },
   "source": [
    "<i> \n",
    "2.2 Сравните графики обучения нейроных сетей:\n",
    "1. Свертки из TestNetwork -> 128 -> 128 -> 10 с ReLU и Dropout между всеми слоями \n",
    "2. Свертки из TestNetwork -> 128 -> 128 -> 10 с ReLU DropConnect вместо всех линейных слоев\n",
    "</i>"
   ]
  },
  {
   "cell_type": "code",
   "execution_count": 189,
   "metadata": {
    "executionInfo": {
     "elapsed": 1160,
     "status": "ok",
     "timestamp": 1602204263658,
     "user": {
      "displayName": "Данила Байгушев",
      "photoUrl": "",
      "userId": "06862651594233453127"
     },
     "user_tz": -180
    },
    "id": "uC3EYVlraf-m"
   },
   "outputs": [],
   "source": [
    "class TestNetwork(nn.Module):\n",
    "    def __init__(self, final_part):\n",
    "        super().__init__()    \n",
    "        \n",
    "        channels = 1\n",
    "        \n",
    "        self.conv_layers = nn.Sequential(\n",
    "            nn.Conv2d(channels, 2, 3, padding=1),    \n",
    "            nn.MaxPool2d(2),\n",
    "            nn.ReLU(),\n",
    "            nn.Conv2d(2, 4, 3, padding=1),            \n",
    "            nn.MaxPool2d(2),\n",
    "            nn.ReLU(),\n",
    "        )\n",
    "        \n",
    "        #input_size = 7 * 7 * 4 = 196\n",
    "        self.flatten = nn.Flatten()\n",
    "        \n",
    "        self.final_part = final_part\n",
    "        \n",
    "        self.log_softmax = nn.LogSoftmax(1)        \n",
    "        \n",
    "    def forward(self, x):\n",
    "        x = self.conv_layers(x)\n",
    "        x = self.flatten(x)\n",
    "        x = self.final_part(x)\n",
    "        return self.log_softmax(x)"
   ]
  },
  {
   "cell_type": "code",
   "execution_count": 195,
   "metadata": {},
   "outputs": [
    {
     "name": "stdout",
     "output_type": "stream",
     "text": [
      "Epoch 9... (Train/Test) NLL: 0.054/0.082\tAccuracy: 0.982/0.974\n"
     ]
    },
    {
     "data": {
      "image/png": "[encoded data removed]",
      "text/plain": [
       "<Figure size 864x360 with 2 Axes>"
      ]
     },
     "metadata": {
      "needs_background": "light"
     },
     "output_type": "display_data"
    },
    {
     "data": {
      "text/plain": [
       "([0.5175328336036535,\n",
       "  0.1922994854131233,\n",
       "  0.14242763940427602,\n",
       "  0.11523128821572134,\n",
       "  0.09581624868629711,\n",
       "  0.08573443516453447,\n",
       "  0.0753019058477205,\n",
       "  0.06509645602135643,\n",
       "  0.06002632881214878,\n",
       "  0.054207242795947325],\n",
       " [0.2152269708959362,\n",
       "  0.167630652555182,\n",
       "  0.1218439017339975,\n",
       "  0.10097979103462605,\n",
       "  0.0903068583788751,\n",
       "  0.09769434701722068,\n",
       "  0.09089179983056045,\n",
       "  0.08707401065650998,\n",
       "  0.07382541607263722,\n",
       "  0.08175941252538675],\n",
       " [0.8423952,\n",
       "  0.9393102,\n",
       "  0.95570695,\n",
       "  0.9633973,\n",
       "  0.9697273,\n",
       "  0.972237,\n",
       "  0.9754631,\n",
       "  0.9785003,\n",
       "  0.9807048,\n",
       "  0.9824149],\n",
       " [0.93047863,\n",
       "  0.9435324,\n",
       "  0.96024525,\n",
       "  0.96578324,\n",
       "  0.9702334,\n",
       "  0.96706885,\n",
       "  0.9691456,\n",
       "  0.971519,\n",
       "  0.974288,\n",
       "  0.9741891])"
      ]
     },
     "execution_count": 195,
     "metadata": {},
     "output_type": "execute_result"
    }
   ],
   "source": [
    "from train_utils import train\n",
    "\n",
    "layers = [\n",
    "    nn.Linear(196, 128),\n",
    "    nn.ReLU(),\n",
    "    nn.Linear(128, 128),\n",
    "    nn.ReLU(),\n",
    "    nn.Linear(128, 10)\n",
    "]\n",
    "\n",
    "network = TestNetwork(nn.Sequential(*layers))\n",
    "\n",
    "train(network, train_loader, test_loader, 10, 0.001)"
   ]
  },
  {
   "cell_type": "code",
   "execution_count": 196,
   "metadata": {},
   "outputs": [
    {
     "name": "stdout",
     "output_type": "stream",
     "text": [
      "Epoch 9... (Train/Test) NLL: 0.109/0.064\tAccuracy: 0.969/0.979\n"
     ]
    },
    {
     "data": {
      "image/png": "[encoded data removed]",
      "text/plain": [
       "<Figure size 864x360 with 2 Axes>"
      ]
     },
     "metadata": {
      "needs_background": "light"
     },
     "output_type": "display_data"
    },
    {
     "data": {
      "text/plain": [
       "([0.6093119642119418,\n",
       "  0.2443537863491695,\n",
       "  0.19334982502371517,\n",
       "  0.16535132333064384,\n",
       "  0.14791279485119557,\n",
       "  0.13947475388614353,\n",
       "  0.13114620089086135,\n",
       "  0.12099993034307636,\n",
       "  0.1164544285225398,\n",
       "  0.10902147049477487],\n",
       " [0.1600355314963226,\n",
       "  0.11382018477667737,\n",
       "  0.09657523545283306,\n",
       "  0.08028092578973008,\n",
       "  0.0724535929068593,\n",
       "  0.06853281535632626,\n",
       "  0.06896179148785864,\n",
       "  0.06811649235602044,\n",
       "  0.06176128836725898,\n",
       "  0.06407532691837678],\n",
       " [0.80129486,\n",
       "  0.9271777,\n",
       "  0.94293046,\n",
       "  0.95147586,\n",
       "  0.95656765,\n",
       "  0.9594771,\n",
       "  0.960832,\n",
       "  0.9652852,\n",
       "  0.9651408,\n",
       "  0.9688833],\n",
       " [0.95154274,\n",
       "  0.9637065,\n",
       "  0.96894777,\n",
       "  0.97359574,\n",
       "  0.976068,\n",
       "  0.97863925,\n",
       "  0.977057,\n",
       "  0.977947,\n",
       "  0.980716,\n",
       "  0.9794304])"
      ]
     },
     "execution_count": 196,
     "metadata": {},
     "output_type": "execute_result"
    }
   ],
   "source": [
    "from train_utils import train\n",
    "\n",
    "layers = [\n",
    "    nn.Linear(196, 128),\n",
    "    nn.Dropout(p=0.5),\n",
    "    nn.ReLU(),\n",
    "    nn.Linear(128, 128),\n",
    "    nn.Dropout(p=0.5),\n",
    "    nn.ReLU(),\n",
    "    nn.Linear(128, 10)\n",
    "]\n",
    "\n",
    "network = TestNetwork(nn.Sequential(*layers))\n",
    "\n",
    "train(network, train_loader, test_loader, 10, 0.001)"
   ]
  },
  {
   "cell_type": "code",
   "execution_count": 197,
   "metadata": {
    "colab": {
     "base_uri": "https://localhost:8080/",
     "height": 393
    },
    "executionInfo": {
     "elapsed": 116811,
     "status": "ok",
     "timestamp": 1602204419849,
     "user": {
      "displayName": "Данила Байгушев",
      "photoUrl": "",
      "userId": "06862651594233453127"
     },
     "user_tz": -180
    },
    "id": "QRoKM7rtbGXr",
    "outputId": "5249c849-429c-4c8b-b32a-ef7680da6d4d"
   },
   "outputs": [
    {
     "name": "stdout",
     "output_type": "stream",
     "text": [
      "Epoch 9... (Train/Test) NLL: 0.170/0.104\tAccuracy: 0.947/0.966\n"
     ]
    },
    {
     "data": {
      "image/png": "[encoded data removed]",
      "text/plain": [
       "<Figure size 864x360 with 2 Axes>"
      ]
     },
     "metadata": {
      "needs_background": "light"
     },
     "output_type": "display_data"
    },
    {
     "data": {
      "text/plain": [
       "([1.2556340227376168,\n",
       "  0.5444518997788683,\n",
       "  0.3624122564885408,\n",
       "  0.2890477766836884,\n",
       "  0.25108230090154005,\n",
       "  0.2315052516424834,\n",
       "  0.21016549635956536,\n",
       "  0.1949814843820102,\n",
       "  0.18171441342943767,\n",
       "  0.17043050214934197],\n",
       " [0.4959905296564102,\n",
       "  0.2689521834254265,\n",
       "  0.20312223177921923,\n",
       "  0.16480728205812128,\n",
       "  0.1438822530775885,\n",
       "  0.13315217725083797,\n",
       "  0.12184801506750946,\n",
       "  0.11768077526100074,\n",
       "  0.10965514814929117,\n",
       "  0.10402324302947219],\n",
       " [0.5548874,\n",
       "  0.8181858,\n",
       "  0.88244605,\n",
       "  0.9093817,\n",
       "  0.9218584,\n",
       "  0.92877686,\n",
       "  0.93540114,\n",
       "  0.9390492,\n",
       "  0.9448627,\n",
       "  0.94693387],\n",
       " [0.84315664,\n",
       "  0.91327137,\n",
       "  0.9351266,\n",
       "  0.9474881,\n",
       "  0.9526305,\n",
       "  0.9569818,\n",
       "  0.9605419,\n",
       "  0.96202534,\n",
       "  0.96301425,\n",
       "  0.9663766])"
      ]
     },
     "execution_count": 197,
     "metadata": {},
     "output_type": "execute_result"
    }
   ],
   "source": [
    "from train_utils import train\n",
    "\n",
    "layers = [\n",
    "    DropConnect(196, 128, 0.5),\n",
    "    nn.ReLU(),\n",
    "    DropConnect(128, 128, 0.5),\n",
    "    nn.ReLU(),\n",
    "    DropConnect(128, 10, 0.5)\n",
    "]\n",
    "\n",
    "network = TestNetwork(nn.Sequential(*layers))\n",
    "\n",
    "train(network, train_loader, test_loader, 10, 0.001)"
   ]
  },
  {
   "cell_type": "markdown",
   "metadata": {
    "id": "pooEVZFbaf_L"
   },
   "source": [
    "В test-time стохастичность Dropout убирают и заменяют все веса на их ожидаемое значение: $\\mathbb{E}w = pw + (1-p)0 = pw$."
   ]
  },
  {
   "cell_type": "markdown",
   "metadata": {
    "id": "yfBC8qS4af_K"
   },
   "source": [
    "<i> 2.3 Сделайте выводы по третьей части. </i>"
   ]
  },
  {
   "cell_type": "markdown",
   "metadata": {
    "id": "zFTfYoSSvm5h"
   },
   "source": [
    "Можно видеть, что при использовании Dropout и Dropconnect происходит уменьшение переобучения (в данном случае и без того маленького, в результате чего получаем точность на тесте выше, чем на трейне), причем в случае Dropconnect этот эффект проявляется сильнее."
   ]
  },
  {
   "cell_type": "markdown",
   "metadata": {
    "id": "if-VP-I4af_M"
   },
   "source": [
    "### Часть 3: Batch Normalization"
   ]
  },
  {
   "cell_type": "markdown",
   "metadata": {
    "id": "Vba0rSy-af_N"
   },
   "source": [
    "Наконец, давайте рассмотрим Batch Normalization. Этот слой вычитает среднее и делит на стандартное отклонение. Среднее и дисперсия вычисляются по батчу независимо для каждого нейрона. У этого слоя есть две важные проблемы: его нельзя использовать при обучении с размером батча 1 и он делает элементы батча зависимыми. Давайте реализуем аналог батч нормализации: <a href=https://arxiv.org/pdf/1607.06450.pdf>Layer normalization</a>. В layer normalization среднее и дисперсия вычисляются по активациям нейронов, независимо для каждого объекта."
   ]
  },
  {
   "cell_type": "markdown",
   "metadata": {
    "id": "cqUTAtjIaf_O"
   },
   "source": [
    "<i> 3.1 Реализуйте Layer Normalization </i>"
   ]
  },
  {
   "cell_type": "code",
   "execution_count": 193,
   "metadata": {
    "id": "e2H4VX4_af_O"
   },
   "outputs": [],
   "source": [
    "# полезные функции: .std(dim), .mean(dim)\n",
    "\n",
    "class LayerNormalization(nn.Module):\n",
    "    def forward(self, x):\n",
    "        output = (x - x.mean(0)) / (x.std(0) ** 2)\n",
    "        return output"
   ]
  },
  {
   "cell_type": "markdown",
   "metadata": {
    "id": "g2sTZ7h5af_T"
   },
   "source": [
    "<i> \n",
    "3.2 Сравните графики обучения нейроных сетей:\n",
    "1. Свертки из TestNetwork -> 128 -> 128 -> 10 с ReLU и Batch normalization между всеми слоями \n",
    "2. Свертки из TestNetwork -> 128 -> 128 -> 10 с ReLU и Layer normalization между всеми слоями \n",
    "</i>"
   ]
  },
  {
   "cell_type": "code",
   "execution_count": 200,
   "metadata": {
    "id": "q1PPqKRZaf_U"
   },
   "outputs": [
    {
     "name": "stdout",
     "output_type": "stream",
     "text": [
      "Epoch 9... (Train/Test) NLL: 0.027/0.077\tAccuracy: 0.991/0.976\n"
     ]
    },
    {
     "data": {
      "image/png": "[encoded data removed]",
      "text/plain": [
       "<Figure size 864x360 with 2 Axes>"
      ]
     },
     "metadata": {
      "needs_background": "light"
     },
     "output_type": "display_data"
    },
    {
     "data": {
      "text/plain": [
       "([0.2603753296884774,\n",
       "  0.09352868766402767,\n",
       "  0.06970513015707482,\n",
       "  0.05546217545894767,\n",
       "  0.04640748755815727,\n",
       "  0.040654511730085365,\n",
       "  0.03485095608574368,\n",
       "  0.03077995276519421,\n",
       "  0.027854863016345877,\n",
       "  0.02675527203972064],\n",
       " [0.1432435149916365,\n",
       "  0.0753396293737843,\n",
       "  0.06923162262839606,\n",
       "  0.06161008568339144,\n",
       "  0.06495456080412186,\n",
       "  0.07701401117764696,\n",
       "  0.06114590129759045,\n",
       "  0.07555637545176322,\n",
       "  0.0756628597626769,\n",
       "  0.07730142005919656],\n",
       " [0.9293099,\n",
       "  0.97098213,\n",
       "  0.9777341,\n",
       "  0.9817653,\n",
       "  0.98501915,\n",
       "  0.98695695,\n",
       "  0.9883174,\n",
       "  0.98958886,\n",
       "  0.9905217,\n",
       "  0.99087155],\n",
       " [0.9521361,\n",
       "  0.9750791,\n",
       "  0.9777492,\n",
       "  0.9791337,\n",
       "  0.9793315,\n",
       "  0.9750791,\n",
       "  0.9808149,\n",
       "  0.97715586,\n",
       "  0.9780459,\n",
       "  0.97626585])"
      ]
     },
     "execution_count": 200,
     "metadata": {},
     "output_type": "execute_result"
    }
   ],
   "source": [
    "from train_utils import train\n",
    "\n",
    "layers = [\n",
    "    nn.Linear(196, 128),\n",
    "    nn.BatchNorm1d(128),\n",
    "    nn.ReLU(),\n",
    "    nn.Linear(128, 128),\n",
    "    nn.BatchNorm1d(128),\n",
    "    nn.ReLU(),\n",
    "    nn.Linear(128, 10)\n",
    "]\n",
    "\n",
    "network = TestNetwork(nn.Sequential(*layers))\n",
    "\n",
    "train(network, train_loader, test_loader, 10, 0.001)"
   ]
  },
  {
   "cell_type": "code",
   "execution_count": 201,
   "metadata": {},
   "outputs": [
    {
     "name": "stdout",
     "output_type": "stream",
     "text": [
      "Epoch 9... (Train/Test) NLL: 0.026/0.059\tAccuracy: 0.991/0.981\n"
     ]
    },
    {
     "data": {
      "image/png": "[encoded data removed]",
      "text/plain": [
       "<Figure size 864x360 with 2 Axes>"
      ]
     },
     "metadata": {
      "needs_background": "light"
     },
     "output_type": "display_data"
    },
    {
     "data": {
      "text/plain": [
       "([0.2639741523266792,\n",
       "  0.09194972242580167,\n",
       "  0.06941755989721335,\n",
       "  0.05665147259358817,\n",
       "  0.048253383014355104,\n",
       "  0.042389200454744605,\n",
       "  0.03831472791739301,\n",
       "  0.033351437660551736,\n",
       "  0.030495885642680295,\n",
       "  0.026487104114773535],\n",
       " [0.10335117875586582,\n",
       "  0.08108431313045417,\n",
       "  0.06648739745628231,\n",
       "  0.06938974209176967,\n",
       "  0.06316832191888479,\n",
       "  0.05561766884867338,\n",
       "  0.053309888667368056,\n",
       "  0.05277408599334804,\n",
       "  0.05219897757066249,\n",
       "  0.05905132647014306],\n",
       " [0.93157536,\n",
       "  0.97076005,\n",
       "  0.97845036,\n",
       "  0.9819763,\n",
       "  0.9843528,\n",
       "  0.9856688,\n",
       "  0.9875622,\n",
       "  0.98877263,\n",
       "  0.98948896,\n",
       "  0.9911492],\n",
       " [0.9669699,\n",
       "  0.9740902,\n",
       "  0.9774525,\n",
       "  0.9761669,\n",
       "  0.977947,\n",
       "  0.9819027,\n",
       "  0.98358387,\n",
       "  0.9839794,\n",
       "  0.98269385,\n",
       "  0.98140824])"
      ]
     },
     "execution_count": 201,
     "metadata": {},
     "output_type": "execute_result"
    }
   ],
   "source": [
    "from train_utils import train\n",
    "\n",
    "layers = [\n",
    "    nn.Linear(196, 128),\n",
    "    LayerNormalization(),\n",
    "    nn.ReLU(),\n",
    "    nn.Linear(128, 128),\n",
    "    LayerNormalization(),\n",
    "    nn.ReLU(),\n",
    "    nn.Linear(128, 10)\n",
    "]\n",
    "\n",
    "network = TestNetwork(nn.Sequential(*layers))\n",
    "\n",
    "train(network, train_loader, test_loader, 10, 0.001)"
   ]
  },
  {
   "cell_type": "markdown",
   "metadata": {
    "id": "CudyBOIgaf_X"
   },
   "source": [
    "<i> 3.3 Сделайте выводы по третьей части </i>"
   ]
  },
  {
   "cell_type": "markdown",
   "metadata": {
    "id": "PgZh16-IvluR"
   },
   "source": [
    "В результате применения нормализации сеть стала сходиться до более высокого значения метрики, причем в случае Layer Normalization на тесте метрика была немного выше."
   ]
  },
  {
   "cell_type": "markdown",
   "metadata": {
    "id": "8VTz6VQ5af_Z"
   },
   "source": [
    "#### Feedback (опционально)"
   ]
  },
  {
   "cell_type": "markdown",
   "metadata": {
    "id": "ewz7GZvvaf_Z"
   },
   "source": [
    "Здесь вы можете оставить список опечаток из лекции или семинара:"
   ]
  },
  {
   "cell_type": "markdown",
   "metadata": {
    "id": "XCSe88HUaf_a"
   },
   "source": []
  },
  {
   "cell_type": "markdown",
   "metadata": {
    "id": "58N5yqKUaf_b"
   },
   "source": [
    "Здесь вы можете оставить комментарии по лекции или семинару:"
   ]
  },
  {
   "cell_type": "markdown",
   "metadata": {
    "id": "SeGFzT7vaf_b"
   },
   "source": [
    "Всё понятно, интересное домашнее задание."
   ]
  }
 ],
 "metadata": {
  "accelerator": "GPU",
  "colab": {
   "collapsed_sections": [],
   "name": "[2020] Practice task 5, Speedup.ipynb",
   "provenance": [],
   "toc_visible": true
  },
  "kernelspec": {
   "display_name": "Python 3",
   "language": "python",
   "name": "python3"
  },
  "language_info": {
   "codemirror_mode": {
    "name": "ipython",
    "version": 3
   },
   "file_extension": ".py",
   "mimetype": "text/x-python",
   "name": "python",
   "nbconvert_exporter": "python",
   "pygments_lexer": "ipython3",
   "version": "3.7.4"
  },
  "latex_envs": {
   "bibliofile": "biblio.bib",
   "cite_by": "apalike",
   "current_citInitial": 1,
   "eqLabelWithNumbers": true,
   "eqNumInitial": 0
  }
 },
 "nbformat": 4,
 "nbformat_minor": 1
}
